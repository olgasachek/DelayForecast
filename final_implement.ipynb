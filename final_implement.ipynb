{
  "nbformat": 4,
  "nbformat_minor": 5,
  "metadata": {
    "kernelspec": {
      "display_name": "Python 3",
      "language": "python",
      "name": "python3"
    },
    "language_info": {
      "codemirror_mode": {
        "name": "ipython",
        "version": 3
      },
      "file_extension": ".py",
      "mimetype": "text/x-python",
      "name": "python",
      "nbconvert_exporter": "python",
      "pygments_lexer": "ipython3",
      "version": "3.8.6"
    },
    "colab": {
      "name": "final_implement.ipynb",
      "provenance": []
    }
  },
  "cells": [
    {
      "cell_type": "markdown",
      "metadata": {
        "id": "qZPqYMdsT2Bg"
      },
      "source": [
        "**Forecast of tram delay in Krakov** (https://www.kaggle.com/c/tram-predict-delay-ds1/submissions)"
      ],
      "id": "qZPqYMdsT2Bg"
    },
    {
      "cell_type": "code",
      "metadata": {
        "ExecuteTime": {
          "end_time": "2021-10-25T08:51:06.834160Z",
          "start_time": "2021-10-25T08:51:05.546014Z"
        },
        "id": "threaded-california"
      },
      "source": [
        "# 1 - import library\n",
        "import pandas as pd\n",
        "import numpy as np\n",
        "from sklearn.model_selection import cross_val_score\n",
        "import xgboost as xgb\n",
        "import lightgbm as lgb\n",
        "import catboost as ctb\n",
        "import math\n",
        "\n",
        "np.random.seed(0)"
      ],
      "id": "threaded-california",
      "execution_count": null,
      "outputs": []
    },
    {
      "cell_type": "code",
      "metadata": {
        "id": "activated-record"
      },
      "source": [
        "# 2 - load date\n",
        "df_train = pd.read_hdf('input/tram.train.h5')\n",
        "df_test = pd.read_hdf('input/tram.test.h5')"
      ],
      "id": "activated-record",
      "execution_count": null,
      "outputs": []
    },
    {
      "cell_type": "code",
      "metadata": {
        "id": "white-printer",
        "outputId": "13609fc1-3a98-4213-bc90-14a486dce830"
      },
      "source": [
        "# 3 - concate train and test\n",
        "df = pd.concat([df_train, df_test])\n",
        "df.shape"
      ],
      "id": "white-printer",
      "execution_count": null,
      "outputs": [
        {
          "data": {
            "text/plain": [
              "(308152, 11)"
            ]
          },
          "execution_count": 7,
          "metadata": {},
          "output_type": "execute_result"
        }
      ]
    },
    {
      "cell_type": "code",
      "metadata": {
        "id": "micro-drill",
        "outputId": "00cf4695-1187-4490-e9a0-5dbb1b8f857c"
      },
      "source": [
        "# 4 - change and create features\n",
        "\n",
        "df[\"stop_name_cat\"] = df[\"stop_name\"].factorize()[0]     # get the numeric representation for \"stop_name\"\n",
        "df[\"direction_cat\"] = df[\"direction\"].factorize()[0]     # get the numeric representation for \"direction\"\n",
        "df[\"planned_time_hours\"] = df[\"planned_time\"].apply(lambda x: int(x[11:13]))  # get hours from \"planned_time\"\n",
        "\n",
        "df[\"seq_num\"] = df[\"seq_num\"].fillna(0)                  # fill NA/NaN values using \"0\" for \"seq_num\"\n",
        "df[\"vehicle_id_cat\"] = df[\"vehicle_id\"].factorize()[0]   # get the numeric representation for \"vehicle_id\"\n",
        "df[\"seq_num_pl_numb\"] = df[\"number\"] + df[\"seq_num\"] + df[\"direction_cat\"]\n",
        "df[\"number_pl_stop_name\"] = df[\"number\"] + df[\"stop_name_cat\"]\n",
        "df[\"number_pl_direction_stop_name\"] = df[\"number\"] + df[\"direction_cat\"] + df[\"stop_name_cat\"]\n",
        "\n",
        "feats = df.select_dtypes(\"number\").columns\n",
        "black_list = [\"id\", 'delay', \"stop_name\", \"direction\", \"vehicle_id\", \"trip_id\", \"planned_time\", \"datetime\"]\n",
        "feats = [x for x in feats if x not in black_list]\n",
        "print(feats)"
      ],
      "id": "micro-drill",
      "execution_count": null,
      "outputs": [
        {
          "name": "stdout",
          "output_type": "stream",
          "text": [
            "['stop', 'number', 'seq_num', 'stop_name_cat', 'direction_cat', 'planned_time_hours', 'vehicle_id_cat', 'seq_num_pl_numb', 'number_pl_stop_name', 'number_pl_direction_stop_name']\n"
          ]
        }
      ]
    },
    {
      "cell_type": "code",
      "metadata": {
        "id": "maritime-democrat"
      },
      "source": [
        "# 4 - create datasets train and test\n",
        "from sklearn.preprocessing import MinMaxScaler,StandardScaler,MaxAbsScaler\n",
        "df_train = df[ df[\"delay\"].notnull() ].copy()\n",
        "df_test = df[ df[\"delay\"].isnull() ].copy()\n",
        "\n",
        "X_train = df_train[feats].values\n",
        "df_train[\"delay\"] = df_train[\"delay\"]/60     # convert target variable: seconds -> minutes\n",
        "y_train = df_train[\"delay\"].values\n",
        "X_test = df_test[feats].values\n",
        "\n",
        "ss = MaxAbsScaler()\n",
        "X_train = ss.fit_transform(X_train)\n",
        "X_test = ss.transform(X_test)"
      ],
      "id": "maritime-democrat",
      "execution_count": null,
      "outputs": []
    },
    {
      "cell_type": "code",
      "metadata": {
        "id": "unable-departure",
        "outputId": "3637f1a1-6f33-46b2-b8d6-9d31fc2f705d"
      },
      "source": [
        "# 5 - learning model\n",
        "model = xgb.XGBRegressor(max_depth=10, n_estimators=50, random_state=0)\n",
        "scores = cross_val_score(model, X_train, y_train, cv=3, scoring=\"neg_mean_absolute_error\")\n",
        "np.mean(scores), np.std(scores)"
      ],
      "id": "unable-departure",
      "execution_count": null,
      "outputs": [
        {
          "data": {
            "text/plain": [
              "(-0.8232544994131864, 0.010511846057428447)"
            ]
          },
          "execution_count": 10,
          "metadata": {},
          "output_type": "execute_result"
        }
      ]
    },
    {
      "cell_type": "code",
      "metadata": {
        "id": "remarkable-international"
      },
      "source": [
        "# 6 - predict \n",
        "model = xgb.XGBRegressor(max_depth=10, n_estimators=50, random_state=0)\n",
        "model.fit(X_train, y_train)\n",
        "df_test[\"delay\"] = model.predict(X_test)"
      ],
      "id": "remarkable-international",
      "execution_count": null,
      "outputs": []
    },
    {
      "cell_type": "code",
      "metadata": {
        "id": "changed-opportunity",
        "outputId": "083bce6e-425b-48bb-c470-9094f4231d76"
      },
      "source": [
        "# 7 - transform sec -> min\n",
        "df_test[\"delay\"] = df_test[\"delay\"].apply(lambda x: 0 if x < 0 else round(x, 0))\n",
        "df_test[\"delay\"] = df_test[\"delay\"]*60     # convert target variable: minutes -> seconds\n",
        "print(df_test[\"delay\"])"
      ],
      "id": "changed-opportunity",
      "execution_count": null,
      "outputs": [
        {
          "name": "stdout",
          "output_type": "stream",
          "text": [
            "47215       0.0\n",
            "47216       0.0\n",
            "47217     540.0\n",
            "47218      60.0\n",
            "47219     660.0\n",
            "          ...  \n",
            "308141    180.0\n",
            "308142      0.0\n",
            "308143    180.0\n",
            "308144     60.0\n",
            "308145      0.0\n",
            "Name: delay, Length: 132166, dtype: float64\n"
          ]
        }
      ]
    },
    {
      "cell_type": "code",
      "metadata": {
        "id": "average-chorus"
      },
      "source": [
        "# 8 - save results\n",
        "df_test[ [\"id\", \"delay\"] ].to_csv('result_xgboost.csv', index=False) "
      ],
      "id": "average-chorus",
      "execution_count": null,
      "outputs": []
    },
    {
      "cell_type": "code",
      "metadata": {
        "id": "burning-bradford"
      },
      "source": [
        "# create other features - 1 \n",
        "\n",
        "# One Hot Encoding for \"stop_name\"\n",
        "df_dummies = pd.get_dummies (df.stop_name, prefix = 'stop_name')\n",
        "df = pd.concat ( [df, df_dummies] , axis = 1)\n",
        "\n",
        "# One Hot Encoding for \"direction\"\n",
        "df_dummies = pd.get_dummies (df.direction, prefix = 'direction')\n",
        "df = pd.concat ( [df, df_dummies] , axis = 1)\n",
        "\n",
        "# One Hot Encoding for \"vehicle_id\"\n",
        "df_dummies = pd.get_dummies (df.vehicle_id, prefix = 'vehicle_id')\n",
        "df = pd.concat ( [df, df_dummies] , axis = 1)\n",
        "\n",
        "# create new feature \"planned_day_week\" = weekday number and use One Hot Encoding\n",
        "# create new feature \"weekend\" = 0 if workday, 1 if weekend, and use One Hot Encoding\n",
        "df[\"planned_time_d\"] = pd.to_datetime( df[\"planned_time\"] )\n",
        "df['planned_day_week'] = df['planned_time_d'].apply(lambda day_week: day_week.dayofweek)\n",
        "\n",
        "df[\"weekend\"] = df[\"planned_day_week\"].apply(lambda x: 0 if x > 4 else 1)\n",
        "df_dummies = pd.get_dummies (df.weekend, prefix = 'weekend')\n",
        "df = pd.concat ( [df, df_dummies] , axis = 1)\n",
        "\n",
        "# create new feature \"count_stop\" = number of stops for each trip\n",
        "df['count_stop'] = df.groupby('trip_id')['trip_id'].transform('count')\n",
        "\n",
        "# create new feature \"planned_period_time\"  = time period: 1 - rush hours/ 0 - not rush hours  (период часы пик/не часы пик)\n",
        "df[\"planned_time_hours\"] = df[\"planned_time\"].apply(lambda x: int(x[11:13]))  #df[\"planned_time\"].dt.hour\n",
        "\n",
        "df[\"planned_period_time\"] = df[\"planned_time_hours\"].apply(lambda x: 0 \n",
        "                                                                if ((x <= 7) | (x >= 19) | ((x >= 10) & ( x <= 15)))\n",
        "                                                                    else 1)\n",
        "df[df[\"planned_period_time\"] == 1][[\"planned_time\", \"planned_time_hours\", \"planned_period_time\"]]\n",
        "\n",
        "df_dummies = pd.get_dummies (df.planned_period_time, prefix = 'planned_period_time')\n",
        "df = pd.concat ( [df, df_dummies] , axis = 1)\n",
        "\n",
        "# create new feature \"seq_numb_difference\" - difference between current and previous \"seq_numb\" for the same \"trip_id\"\n",
        "# (для одного маршрута разница между seg_numb)\n",
        "df['seq_numb_difference'] = df.groupby(['trip_id']).seg_numb.diff(-1)"
      ],
      "id": "burning-bradford",
      "execution_count": null,
      "outputs": []
    },
    {
      "cell_type": "code",
      "metadata": {
        "id": "crude-assembly"
      },
      "source": [
        "# create other features - 2\n",
        "# create new feature \"delay_shift\" = the previous trip delay (поле с прошлой задержкой маршрута трамвая)\n",
        "pd.options.mode.chained_assignment = None   # remove warning \n",
        "\n",
        "lst_trip = df[\"trip_id\"].unique()\n",
        "df[\"delay_shift\"] = df[\"delay\"]\n",
        "\n",
        "df_res = df[ df[\"trip_id\"] == 0]\n",
        "i = 0\n",
        "for i_trip in lst_trip:\n",
        "    print(i, \"trip = \", i_trip)\n",
        "    df_tr = pd.DataFrame()\n",
        "    df_tr = df[ df[\"trip_id\"] == i_trip]\n",
        "    df_tr[\"delay_shift\"] = df[ df[\"trip_id\"] == i_trip] [\"delay\"].shift(periods=1, axis=0)\n",
        "    df_res = pd.concat([df_res, df_tr])\n",
        "    i += 1"
      ],
      "id": "crude-assembly",
      "execution_count": null,
      "outputs": []
    },
    {
      "cell_type": "raw",
      "metadata": {
        "id": "immune-palestine"
      },
      "source": [
        "**Conclusion**\n",
        "\n",
        "Converting the target variable from seconds to minutes has resulted in the largest loss reduction."
      ],
      "id": "immune-palestine"
    }
  ]
}